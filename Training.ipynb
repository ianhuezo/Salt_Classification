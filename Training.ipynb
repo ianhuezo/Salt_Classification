{
 "cells": [
  {
   "cell_type": "code",
   "execution_count": 1,
   "metadata": {
    "collapsed": false
   },
   "outputs": [],
   "source": [
    "import pickle\n",
    "import numpy as np\n",
    "import matplotlib.pyplot as plt\n",
    "import tensorflow as tf"
   ]
  },
  {
   "cell_type": "code",
   "execution_count": 2,
   "metadata": {
    "collapsed": false
   },
   "outputs": [],
   "source": [
    "salt = pickle.load(open(\"salt.pickle\",\"rb\"))"
   ]
  },
  {
   "cell_type": "code",
   "execution_count": 3,
   "metadata": {
    "collapsed": false
   },
   "outputs": [
    {
     "data": {
      "text/plain": [
       "(4000, 2, 128, 128)"
      ]
     },
     "execution_count": 3,
     "metadata": {},
     "output_type": "execute_result"
    }
   ],
   "source": [
    "salt.shape"
   ]
  },
  {
   "cell_type": "code",
   "execution_count": 4,
   "metadata": {
    "collapsed": false
   },
   "outputs": [],
   "source": [
    "mask = np.moveaxis(salt, 0, 1)"
   ]
  },
  {
   "cell_type": "code",
   "execution_count": 5,
   "metadata": {
    "collapsed": false
   },
   "outputs": [
    {
     "data": {
      "text/plain": [
       "(2, 4000, 128, 128)"
      ]
     },
     "execution_count": 5,
     "metadata": {},
     "output_type": "execute_result"
    }
   ],
   "source": [
    "mask.shape"
   ]
  },
  {
   "cell_type": "markdown",
   "metadata": {},
   "source": [
    "# The labels will now be created in a one-hot fashion"
   ]
  },
  {
   "cell_type": "code",
   "execution_count": 6,
   "metadata": {
    "collapsed": true
   },
   "outputs": [],
   "source": [
    "#create zeros or ones\n",
    "labels = mask[1] / 255"
   ]
  },
  {
   "cell_type": "code",
   "execution_count": 7,
   "metadata": {
    "collapsed": false
   },
   "outputs": [],
   "source": [
    "X_train = mask[0] / 255"
   ]
  },
  {
   "cell_type": "code",
   "execution_count": 8,
   "metadata": {
    "collapsed": false
   },
   "outputs": [],
   "source": [
    "X_train = np.reshape(X_train, (X_train.shape[0], X_train.shape[1], X_train.shape[2], 1))"
   ]
  },
  {
   "cell_type": "code",
   "execution_count": 9,
   "metadata": {
    "collapsed": false
   },
   "outputs": [
    {
     "data": {
      "text/plain": [
       "(4000, 128, 128, 1)"
      ]
     },
     "execution_count": 9,
     "metadata": {},
     "output_type": "execute_result"
    }
   ],
   "source": [
    "X_train.shape"
   ]
  },
  {
   "cell_type": "code",
   "execution_count": 10,
   "metadata": {
    "collapsed": false
   },
   "outputs": [
    {
     "name": "stderr",
     "output_type": "stream",
     "text": [
      "Using TensorFlow backend.\n"
     ]
    }
   ],
   "source": [
    "from keras.models import Sequential"
   ]
  },
  {
   "cell_type": "code",
   "execution_count": 11,
   "metadata": {
    "collapsed": true
   },
   "outputs": [],
   "source": [
    "# from keras.layers import Dense, Activation, Dropout, Conv2D, MaxPooling2D\n",
    "# from keras import Model\n",
    "\n",
    "from keras.preprocessing.image import load_img\n",
    "from keras import Model\n",
    "from keras.callbacks import EarlyStopping, ModelCheckpoint, ReduceLROnPlateau\n",
    "from keras.models import load_model\n",
    "from keras.optimizers import Adam\n",
    "from keras.utils.vis_utils import plot_model\n",
    "from keras.preprocessing.image import ImageDataGenerator\n",
    "from keras.layers import Input, Conv2D, Conv2DTranspose, MaxPooling2D, concatenate, Dropout"
   ]
  },
  {
   "cell_type": "code",
   "execution_count": 14,
   "metadata": {
    "collapsed": true
   },
   "outputs": [],
   "source": [
    "epochs = 200\n",
    "batch_size = 32"
   ]
  },
  {
   "cell_type": "code",
   "execution_count": 15,
   "metadata": {
    "collapsed": false
   },
   "outputs": [
    {
     "data": {
      "text/plain": [
       "(4000, 128, 128)"
      ]
     },
     "execution_count": 15,
     "metadata": {},
     "output_type": "execute_result"
    }
   ],
   "source": [
    "labels.shape"
   ]
  },
  {
   "cell_type": "code",
   "execution_count": 16,
   "metadata": {
    "collapsed": false
   },
   "outputs": [
    {
     "name": "stderr",
     "output_type": "stream",
     "text": [
      "c:\\users\\ianhu\\anaconda2\\envs\\tensorflow\\lib\\site-packages\\ipykernel_launcher.py:1: DeprecationWarning: Both axis > a.ndim and axis < -a.ndim - 1 are deprecated and will raise an AxisError in the future.\n",
      "  \"\"\"Entry point for launching an IPython kernel.\n"
     ]
    }
   ],
   "source": [
    "labels = np.expand_dims(labels, axis = 4)"
   ]
  },
  {
   "cell_type": "code",
   "execution_count": 17,
   "metadata": {
    "collapsed": false
   },
   "outputs": [],
   "source": [
    "\"\"\"\"\"\n",
    "Note: This model was directly taken(and slightly modified) from Peter Hönigschmid kernel\n",
    "When I built this model, I learned the \"new\" way to create a kaggle model, which is interesting\n",
    "I also learned about the U-Net which gave impressive results in the validation accuracy.  This model\n",
    "used pooling, dropout, and convolution to get great results\n",
    "\"\"\"\"\"\n",
    "def build_model(input_layer, start_neurons):\n",
    "    # 128 -> 64\n",
    "    conv1 = Conv2D(start_neurons * 1, (3, 3), activation=\"relu\", padding=\"same\")(input_layer)\n",
    "    conv1 = Conv2D(start_neurons * 1, (3, 3), activation=\"relu\", padding=\"same\")(conv1)\n",
    "    pool1 = MaxPooling2D((2, 2))(conv1)\n",
    "    pool1 = Dropout(0.25)(pool1)\n",
    "\n",
    "    # 64 -> 32\n",
    "    conv2 = Conv2D(start_neurons * 2, (3, 3), activation=\"relu\", padding=\"same\")(pool1)\n",
    "    conv2 = Conv2D(start_neurons * 2, (3, 3), activation=\"relu\", padding=\"same\")(conv2)\n",
    "    pool2 = MaxPooling2D((2, 2))(conv2)\n",
    "    pool2 = Dropout(0.5)(pool2)\n",
    "\n",
    "    # 32 -> 16\n",
    "    conv3 = Conv2D(start_neurons * 4, (3, 3), activation=\"relu\", padding=\"same\")(pool2)\n",
    "    conv3 = Conv2D(start_neurons * 4, (3, 3), activation=\"relu\", padding=\"same\")(conv3)\n",
    "    pool3 = MaxPooling2D((2, 2))(conv3)\n",
    "    pool3 = Dropout(0.5)(pool3)\n",
    "\n",
    "    # 16 -> 8\n",
    "    conv4 = Conv2D(start_neurons * 8, (3, 3), activation=\"relu\", padding=\"same\")(pool3)\n",
    "    conv4 = Conv2D(start_neurons * 8, (3, 3), activation=\"relu\", padding=\"same\")(conv4)\n",
    "    pool4 = MaxPooling2D((2, 2))(conv4)\n",
    "    pool4 = Dropout(0.5)(pool4)\n",
    "\n",
    "    # Middle\n",
    "    convm = Conv2D(start_neurons * 16, (3, 3), activation=\"relu\", padding=\"same\")(pool4)\n",
    "    convm = Conv2D(start_neurons * 16, (3, 3), activation=\"relu\", padding=\"same\")(convm)\n",
    "\n",
    "    # 8 -> 16\n",
    "    deconv4 = Conv2DTranspose(start_neurons * 8, (3, 3), strides=(2, 2), padding=\"same\")(convm)\n",
    "    uconv4 = concatenate([deconv4, conv4])\n",
    "    uconv4 = Dropout(0.5)(uconv4)\n",
    "    uconv4 = Conv2D(start_neurons * 8, (3, 3), activation=\"relu\", padding=\"same\")(uconv4)\n",
    "    uconv4 = Conv2D(start_neurons * 8, (3, 3), activation=\"relu\", padding=\"same\")(uconv4)\n",
    "\n",
    "    # 16 -> 32\n",
    "    deconv3 = Conv2DTranspose(start_neurons * 4, (3, 3), strides=(2, 2), padding=\"same\")(uconv4)\n",
    "    uconv3 = concatenate([deconv3, conv3])\n",
    "    uconv3 = Dropout(0.5)(uconv3)\n",
    "    uconv3 = Conv2D(start_neurons * 4, (3, 3), activation=\"relu\", padding=\"same\")(uconv3)\n",
    "    uconv3 = Conv2D(start_neurons * 4, (3, 3), activation=\"relu\", padding=\"same\")(uconv3)\n",
    "\n",
    "    # 32 -> 64\n",
    "    deconv2 = Conv2DTranspose(start_neurons * 2, (3, 3), strides=(2, 2), padding=\"same\")(uconv3)\n",
    "    uconv2 = concatenate([deconv2, conv2])\n",
    "    uconv2 = Dropout(0.5)(uconv2)\n",
    "    uconv2 = Conv2D(start_neurons * 2, (3, 3), activation=\"relu\", padding=\"same\")(uconv2)\n",
    "    uconv2 = Conv2D(start_neurons * 2, (3, 3), activation=\"relu\", padding=\"same\")(uconv2)\n",
    "\n",
    "    # 64 -> 128\n",
    "    deconv1 = Conv2DTranspose(start_neurons * 1, (3, 3), strides=(2, 2), padding=\"same\")(uconv2)\n",
    "    uconv1 = concatenate([deconv1, conv1])\n",
    "    uconv1 = Dropout(0.5)(uconv1)\n",
    "    uconv1 = Conv2D(start_neurons * 1, (3, 3), activation=\"relu\", padding=\"same\")(uconv1)\n",
    "    uconv1 = Conv2D(start_neurons * 1, (3, 3), activation=\"relu\", padding=\"same\")(uconv1)\n",
    "\n",
    "    #uconv1 = Dropout(0.5)(uconv1)\n",
    "    output_layer = Conv2D(1, (1,1), padding=\"same\", activation=\"sigmoid\")(uconv1)\n",
    "    \n",
    "    return output_layer\n",
    "img_size_target = 128\n",
    "\n",
    "input_layer = Input((128, 128, 1))\n",
    "output_layer = build_model(input_layer, 16)"
   ]
  },
  {
   "cell_type": "code",
   "execution_count": 18,
   "metadata": {
    "collapsed": true
   },
   "outputs": [],
   "source": [
    "model = Model(input_layer, output_layer)"
   ]
  },
  {
   "cell_type": "code",
   "execution_count": 19,
   "metadata": {
    "collapsed": true
   },
   "outputs": [],
   "source": [
    "model.compile(loss=\"binary_crossentropy\", optimizer=\"adam\", metrics=[\"accuracy\"])"
   ]
  },
  {
   "cell_type": "code",
   "execution_count": 20,
   "metadata": {
    "collapsed": false
   },
   "outputs": [
    {
     "name": "stdout",
     "output_type": "stream",
     "text": [
      "Train on 3200 samples, validate on 800 samples\n",
      "Epoch 1/200\n",
      "3200/3200 [==============================] - 16s 5ms/step - loss: 0.5636 - acc: 0.7489 - val_loss: 0.4797 - val_acc: 0.7640\n",
      "\n",
      "Epoch 00001: val_loss improved from inf to 0.47972, saving model to ./keras.model\n",
      "Epoch 2/200\n",
      "3200/3200 [==============================] - 12s 4ms/step - loss: 0.4838 - acc: 0.7633 - val_loss: 0.4177 - val_acc: 0.8371\n",
      "\n",
      "Epoch 00002: val_loss improved from 0.47972 to 0.41772, saving model to ./keras.model\n",
      "Epoch 3/200\n",
      "3200/3200 [==============================] - 12s 4ms/step - loss: 0.4253 - acc: 0.8235 - val_loss: 0.4888 - val_acc: 0.7572\n",
      "\n",
      "Epoch 00003: val_loss did not improve from 0.41772\n",
      "Epoch 4/200\n",
      "3200/3200 [==============================] - 12s 4ms/step - loss: 0.3966 - acc: 0.8402 - val_loss: 0.3565 - val_acc: 0.8454\n",
      "\n",
      "Epoch 00004: val_loss improved from 0.41772 to 0.35654, saving model to ./keras.model\n",
      "Epoch 5/200\n",
      "3200/3200 [==============================] - 12s 4ms/step - loss: 0.3628 - acc: 0.8565 - val_loss: 0.3848 - val_acc: 0.8213\n",
      "\n",
      "Epoch 00005: val_loss did not improve from 0.35654\n",
      "Epoch 6/200\n",
      "3200/3200 [==============================] - 12s 4ms/step - loss: 0.3742 - acc: 0.8492 - val_loss: 0.3503 - val_acc: 0.8611\n",
      "\n",
      "Epoch 00006: val_loss improved from 0.35654 to 0.35033, saving model to ./keras.model\n",
      "Epoch 7/200\n",
      "3200/3200 [==============================] - 12s 4ms/step - loss: 0.3359 - acc: 0.8705 - val_loss: 0.2938 - val_acc: 0.8904\n",
      "\n",
      "Epoch 00007: val_loss improved from 0.35033 to 0.29381, saving model to ./keras.model\n",
      "Epoch 8/200\n",
      "3200/3200 [==============================] - 12s 4ms/step - loss: 0.3355 - acc: 0.8713 - val_loss: 0.2766 - val_acc: 0.8987\n",
      "\n",
      "Epoch 00008: val_loss improved from 0.29381 to 0.27661, saving model to ./keras.model\n",
      "Epoch 9/200\n",
      "3200/3200 [==============================] - 12s 4ms/step - loss: 0.3178 - acc: 0.8796 - val_loss: 0.2897 - val_acc: 0.8892\n",
      "\n",
      "Epoch 00009: val_loss did not improve from 0.27661\n",
      "Epoch 10/200\n",
      "3200/3200 [==============================] - 12s 4ms/step - loss: 0.2978 - acc: 0.8906 - val_loss: 0.2640 - val_acc: 0.9047\n",
      "\n",
      "Epoch 00010: val_loss improved from 0.27661 to 0.26405, saving model to ./keras.model\n",
      "Epoch 11/200\n",
      "3200/3200 [==============================] - 12s 4ms/step - loss: 0.2869 - acc: 0.8921 - val_loss: 0.2526 - val_acc: 0.9061\n",
      "\n",
      "Epoch 00011: val_loss improved from 0.26405 to 0.25264, saving model to ./keras.model\n",
      "Epoch 12/200\n",
      "3200/3200 [==============================] - 12s 4ms/step - loss: 0.2704 - acc: 0.9015 - val_loss: 0.2218 - val_acc: 0.9189\n",
      "\n",
      "Epoch 00012: val_loss improved from 0.25264 to 0.22183, saving model to ./keras.model\n",
      "Epoch 13/200\n",
      "3200/3200 [==============================] - 12s 4ms/step - loss: 0.2698 - acc: 0.9009 - val_loss: 0.2716 - val_acc: 0.9003\n",
      "\n",
      "Epoch 00013: val_loss did not improve from 0.22183\n",
      "Epoch 14/200\n",
      "3200/3200 [==============================] - 12s 4ms/step - loss: 0.2665 - acc: 0.9016 - val_loss: 0.2659 - val_acc: 0.9033\n",
      "\n",
      "Epoch 00014: val_loss did not improve from 0.22183\n",
      "Epoch 15/200\n",
      "3200/3200 [==============================] - 12s 4ms/step - loss: 0.2490 - acc: 0.9088 - val_loss: 0.2387 - val_acc: 0.9128\n",
      "\n",
      "Epoch 00015: val_loss did not improve from 0.22183\n",
      "Epoch 16/200\n",
      "3200/3200 [==============================] - 12s 4ms/step - loss: 0.2544 - acc: 0.9068 - val_loss: 0.2348 - val_acc: 0.9132\n",
      "\n",
      "Epoch 00016: val_loss did not improve from 0.22183\n",
      "Epoch 17/200\n",
      "3200/3200 [==============================] - 12s 4ms/step - loss: 0.2334 - acc: 0.9144 - val_loss: 0.2079 - val_acc: 0.9231\n",
      "\n",
      "Epoch 00017: val_loss improved from 0.22183 to 0.20786, saving model to ./keras.model\n",
      "Epoch 18/200\n",
      "3200/3200 [==============================] - 12s 4ms/step - loss: 0.2278 - acc: 0.9160 - val_loss: 0.2154 - val_acc: 0.9184\n",
      "\n",
      "Epoch 00018: val_loss did not improve from 0.20786\n",
      "Epoch 19/200\n",
      "3200/3200 [==============================] - 12s 4ms/step - loss: 0.2223 - acc: 0.9170 - val_loss: 0.2414 - val_acc: 0.9046\n",
      "\n",
      "Epoch 00019: val_loss did not improve from 0.20786\n",
      "Epoch 20/200\n",
      "3200/3200 [==============================] - 12s 4ms/step - loss: 0.2151 - acc: 0.9205 - val_loss: 0.2057 - val_acc: 0.9261\n",
      "\n",
      "Epoch 00020: val_loss improved from 0.20786 to 0.20568, saving model to ./keras.model\n",
      "Epoch 21/200\n",
      "3200/3200 [==============================] - 12s 4ms/step - loss: 0.2106 - acc: 0.9219 - val_loss: 0.2290 - val_acc: 0.9209\n",
      "\n",
      "Epoch 00021: val_loss did not improve from 0.20568\n",
      "Epoch 22/200\n",
      "3200/3200 [==============================] - 12s 4ms/step - loss: 0.2034 - acc: 0.9252 - val_loss: 0.2132 - val_acc: 0.9274\n",
      "\n",
      "Epoch 00022: val_loss did not improve from 0.20568\n",
      "Epoch 23/200\n",
      "3200/3200 [==============================] - 12s 4ms/step - loss: 0.2062 - acc: 0.9229 - val_loss: 0.1771 - val_acc: 0.9343\n",
      "\n",
      "Epoch 00023: val_loss improved from 0.20568 to 0.17709, saving model to ./keras.model\n",
      "Epoch 24/200\n",
      "3200/3200 [==============================] - 12s 4ms/step - loss: 0.2005 - acc: 0.9264 - val_loss: 0.2157 - val_acc: 0.9235\n",
      "\n",
      "Epoch 00024: val_loss did not improve from 0.17709\n",
      "Epoch 25/200\n",
      "3200/3200 [==============================] - 12s 4ms/step - loss: 0.1989 - acc: 0.9250 - val_loss: 0.2029 - val_acc: 0.9266\n",
      "\n",
      "Epoch 00025: val_loss did not improve from 0.17709\n",
      "Epoch 26/200\n",
      "3200/3200 [==============================] - 12s 4ms/step - loss: 0.2120 - acc: 0.9206 - val_loss: 0.1857 - val_acc: 0.9321\n",
      "\n",
      "Epoch 00026: val_loss did not improve from 0.17709\n",
      "Epoch 27/200\n",
      "3200/3200 [==============================] - 12s 4ms/step - loss: 0.2005 - acc: 0.9239 - val_loss: 0.1870 - val_acc: 0.9291\n",
      "\n",
      "Epoch 00027: val_loss did not improve from 0.17709\n",
      "Epoch 28/200\n",
      "3200/3200 [==============================] - 12s 4ms/step - loss: 0.1872 - acc: 0.9309 - val_loss: 0.1780 - val_acc: 0.9346\n",
      "\n",
      "Epoch 00028: val_loss did not improve from 0.17709\n",
      "\n",
      "Epoch 00028: ReduceLROnPlateau reducing learning rate to 0.00010000000474974513.\n",
      "Epoch 29/200\n",
      "3200/3200 [==============================] - 12s 4ms/step - loss: 0.1666 - acc: 0.9368 - val_loss: 0.1734 - val_acc: 0.9359\n",
      "\n",
      "Epoch 00029: val_loss improved from 0.17709 to 0.17337, saving model to ./keras.model\n",
      "Epoch 30/200\n",
      "3200/3200 [==============================] - 12s 4ms/step - loss: 0.1608 - acc: 0.9385 - val_loss: 0.1619 - val_acc: 0.9379\n",
      "\n",
      "Epoch 00030: val_loss improved from 0.17337 to 0.16188, saving model to ./keras.model\n",
      "Epoch 31/200\n",
      "3200/3200 [==============================] - 12s 4ms/step - loss: 0.1589 - acc: 0.9393 - val_loss: 0.1676 - val_acc: 0.9367\n",
      "\n",
      "Epoch 00031: val_loss did not improve from 0.16188\n",
      "Epoch 32/200\n",
      "3200/3200 [==============================] - 12s 4ms/step - loss: 0.1598 - acc: 0.9391 - val_loss: 0.1721 - val_acc: 0.9368\n",
      "\n",
      "Epoch 00032: val_loss did not improve from 0.16188\n",
      "Epoch 33/200\n",
      "3200/3200 [==============================] - 12s 4ms/step - loss: 0.1551 - acc: 0.9406 - val_loss: 0.1602 - val_acc: 0.9398\n",
      "\n",
      "Epoch 00033: val_loss improved from 0.16188 to 0.16021, saving model to ./keras.model\n",
      "Epoch 34/200\n",
      "3200/3200 [==============================] - 12s 4ms/step - loss: 0.1539 - acc: 0.9410 - val_loss: 0.1641 - val_acc: 0.9385\n",
      "\n",
      "Epoch 00034: val_loss did not improve from 0.16021\n",
      "Epoch 35/200\n",
      "3200/3200 [==============================] - 12s 4ms/step - loss: 0.1533 - acc: 0.9417 - val_loss: 0.1564 - val_acc: 0.9408\n",
      "\n",
      "Epoch 00035: val_loss improved from 0.16021 to 0.15642, saving model to ./keras.model\n",
      "Epoch 36/200\n",
      "3200/3200 [==============================] - 12s 4ms/step - loss: 0.1508 - acc: 0.9416 - val_loss: 0.1597 - val_acc: 0.9406\n",
      "\n",
      "Epoch 00036: val_loss did not improve from 0.15642\n",
      "Epoch 37/200\n",
      "3200/3200 [==============================] - 12s 4ms/step - loss: 0.1517 - acc: 0.9421 - val_loss: 0.1591 - val_acc: 0.9405\n",
      "\n",
      "Epoch 00037: val_loss did not improve from 0.15642\n",
      "Epoch 38/200\n",
      "3200/3200 [==============================] - 12s 4ms/step - loss: 0.1498 - acc: 0.9427 - val_loss: 0.1586 - val_acc: 0.9404\n",
      "\n",
      "Epoch 00038: val_loss did not improve from 0.15642\n",
      "Epoch 39/200\n",
      "3200/3200 [==============================] - 12s 4ms/step - loss: 0.1490 - acc: 0.9432 - val_loss: 0.1635 - val_acc: 0.9403\n",
      "\n",
      "Epoch 00039: val_loss did not improve from 0.15642\n",
      "Epoch 40/200\n",
      "3200/3200 [==============================] - 12s 4ms/step - loss: 0.1477 - acc: 0.9435 - val_loss: 0.1591 - val_acc: 0.9396\n",
      "\n",
      "Epoch 00040: val_loss did not improve from 0.15642\n",
      "\n",
      "Epoch 00040: ReduceLROnPlateau reducing learning rate to 1.0000000474974514e-05.\n",
      "Epoch 41/200\n",
      "3200/3200 [==============================] - 12s 4ms/step - loss: 0.1451 - acc: 0.9445 - val_loss: 0.1600 - val_acc: 0.9396\n",
      "\n",
      "Epoch 00041: val_loss did not improve from 0.15642\n",
      "Epoch 42/200\n",
      "3200/3200 [==============================] - 12s 4ms/step - loss: 0.1440 - acc: 0.9446 - val_loss: 0.1605 - val_acc: 0.9396\n",
      "\n",
      "Epoch 00042: val_loss did not improve from 0.15642\n",
      "Epoch 43/200\n",
      "3200/3200 [==============================] - 12s 4ms/step - loss: 0.1452 - acc: 0.9443 - val_loss: 0.1606 - val_acc: 0.9398\n",
      "\n",
      "Epoch 00043: val_loss did not improve from 0.15642\n",
      "Epoch 44/200\n",
      "3200/3200 [==============================] - 12s 4ms/step - loss: 0.1442 - acc: 0.9447 - val_loss: 0.1598 - val_acc: 0.9399\n",
      "\n",
      "Epoch 00044: val_loss did not improve from 0.15642\n",
      "Epoch 45/200\n",
      "3200/3200 [==============================] - 12s 4ms/step - loss: 0.1446 - acc: 0.9445 - val_loss: 0.1601 - val_acc: 0.9397\n",
      "\n",
      "Epoch 00045: val_loss did not improve from 0.15642\n",
      "\n",
      "Epoch 00045: ReduceLROnPlateau reducing learning rate to 1e-05.\n",
      "Epoch 00045: early stopping\n"
     ]
    }
   ],
   "source": [
    "early_stopping = EarlyStopping(patience=10, verbose=1)\n",
    "model_checkpoint = ModelCheckpoint(\"./keras.model\", save_best_only=True, verbose=1)\n",
    "reduce_lr = ReduceLROnPlateau(factor=0.1, patience=5, min_lr=0.00001, verbose=1)\n",
    "\n",
    "epochs = 200\n",
    "batch_size = 32\n",
    "\n",
    "history = model.fit(X_train, labels,\n",
    "                    epochs=epochs,\n",
    "                    validation_split = 0.2,\n",
    "                    batch_size=batch_size,\n",
    "                    callbacks=[early_stopping, model_checkpoint, reduce_lr])"
   ]
  },
  {
   "cell_type": "code",
   "execution_count": 21,
   "metadata": {
    "collapsed": false
   },
   "outputs": [
    {
     "data": {
      "text/plain": [
       "[<matplotlib.lines.Line2D at 0x1bfc0fe8780>]"
      ]
     },
     "execution_count": 21,
     "metadata": {},
     "output_type": "execute_result"
    },
    {
     "data": {
      "image/png": "[encoded data removed]",
      "text/plain": [
       "<Figure size 1080x360 with 2 Axes>"
      ]
     },
     "metadata": {},
     "output_type": "display_data"
    }
   ],
   "source": [
    "fig, (ax_loss, ax_acc) = plt.subplots(1, 2, figsize=(15,5))\n",
    "ax_loss.plot(history.epoch, history.history[\"loss\"], label=\"Train loss\")\n",
    "ax_loss.plot(history.epoch, history.history[\"val_loss\"], label=\"Validation loss\")\n",
    "ax_acc.plot(history.epoch, history.history[\"acc\"], label=\"Train accuracy\")\n",
    "ax_acc.plot(history.epoch, history.history[\"val_acc\"], label=\"Validation accuracy\")"
   ]
  },
  {
   "cell_type": "code",
   "execution_count": null,
   "metadata": {
    "collapsed": true
   },
   "outputs": [],
   "source": []
  }
 ],
 "metadata": {
  "kernelspec": {
   "display_name": "Python 3",
   "language": "python",
   "name": "python3"
  },
  "language_info": {
   "codemirror_mode": {
    "name": "ipython",
    "version": 3
   },
   "file_extension": ".py",
   "mimetype": "text/x-python",
   "name": "python",
   "nbconvert_exporter": "python",
   "pygments_lexer": "ipython3",
   "version": "3.5.5"
  }
 },
 "nbformat": 4,
 "nbformat_minor": 0
}
